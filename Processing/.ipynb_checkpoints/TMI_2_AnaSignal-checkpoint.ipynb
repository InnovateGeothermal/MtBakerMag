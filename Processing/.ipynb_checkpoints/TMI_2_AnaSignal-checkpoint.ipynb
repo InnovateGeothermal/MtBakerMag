{
 "cells": [
  {
   "cell_type": "code",
   "execution_count": 1,
   "metadata": {
    "collapsed": false
   },
   "outputs": [
    {
     "name": "stdout",
     "output_type": "stream",
     "text": [
      "Efficiency Warning: Interpolation will be slow, use setup.py!\n",
      "\n",
      "            python setup.py build_ext --inplace\n",
      "    \n",
      "Populating the interactive namespace from numpy and matplotlib\n"
     ]
    },
    {
     "name": "stderr",
     "output_type": "stream",
     "text": [
      "C:\\Users\\dominiquef.MIRAGEOSCIENCE\\Documents\\GIT\\fatiando\\fatiando\\vis\\mpl.py:76: UserWarning: This module will be removed in v0.6. We recommend the use of matplotlib.pyplot module directly. Some of the fatiando specific functions will remain.\n",
      "  \"specific functions will remain.\")\n"
     ]
    }
   ],
   "source": [
    "from SimPEG import PF\n",
    "from fatiando import gravmag\n",
    "import numpy as np\n",
    "%pylab inline"
   ]
  },
  {
   "cell_type": "code",
   "execution_count": 2,
   "metadata": {
    "collapsed": true
   },
   "outputs": [],
   "source": [
    "# Define working directory\n",
    "work_dir = './'\n",
    "\n",
    "# Define data matrix\n",
    "datFile = 'MB_TMI_cellsize15blank2000.dat'\n",
    "\n",
    "# Limits\n",
    "limFile = \n",
    "\n",
    "# Load the TMI data\n",
    "data = np.loadtxt(work_dir + datFile)\n",
    "\n",
    "# Load the limits\n",
    "lim = np.loadtxt(work_dir + datFile)"
   ]
  },
  {
   "cell_type": "code",
   "execution_count": null,
   "metadata": {
    "collapsed": true
   },
   "outputs": [],
   "source": []
  }
 ],
 "metadata": {
  "anaconda-cloud": {},
  "kernelspec": {
   "display_name": "Python [conda root]",
   "language": "python",
   "name": "conda-root-py"
  },
  "language_info": {
   "codemirror_mode": {
    "name": "ipython",
    "version": 2
   },
   "file_extension": ".py",
   "mimetype": "text/x-python",
   "name": "python",
   "nbconvert_exporter": "python",
   "pygments_lexer": "ipython2",
   "version": "2.7.12"
  }
 },
 "nbformat": 4,
 "nbformat_minor": 0
}
