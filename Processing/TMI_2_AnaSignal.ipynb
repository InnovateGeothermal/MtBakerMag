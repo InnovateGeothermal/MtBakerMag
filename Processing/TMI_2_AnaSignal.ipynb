{
 "cells": [
  {
   "cell_type": "code",
   "execution_count": 1,
   "metadata": {
    "collapsed": false
   },
   "outputs": [
    {
     "name": "stdout",
     "output_type": "stream",
     "text": [
      "Efficiency Warning: Interpolation will be slow, use setup.py!\n",
      "\n",
      "            python setup.py build_ext --inplace\n",
      "    \n",
      "Populating the interactive namespace from numpy and matplotlib\n"
     ]
    },
    {
     "name": "stderr",
     "output_type": "stream",
     "text": [
      "C:\\Users\\dominiquef.MIRAGEOSCIENCE\\Documents\\GIT\\fatiando\\fatiando\\vis\\mpl.py:76: UserWarning: This module will be removed in v0.6. We recommend the use of matplotlib.pyplot module directly. Some of the fatiando specific functions will remain.\n",
      "  \"specific functions will remain.\")\n"
     ]
    }
   ],
   "source": [
    "from SimPEG import PF\n",
    "from fatiando import gravmag\n",
    "import numpy as np\n",
    "%pylab inline"
   ]
  },
  {
   "cell_type": "code",
   "execution_count": 2,
   "metadata": {
    "collapsed": false
   },
   "outputs": [],
   "source": [
    "# Define working directory\n",
    "work_dir = './'\n",
    "\n",
    "# Define data matrix\n",
    "datFile = 'MB_TMI_cellsize15blank2000.dat'\n",
    "\n",
    "# Limits\n",
    "limFile = 'AreaofInterest_UTMWGS84z10.csv'\n",
    "\n",
    "# Load the TMI data\n",
    "data = np.loadtxt(work_dir + datFile)\n",
    "\n",
    "# Load the limits\n",
    "lim = np.loadtxt(work_dir + limFile, skiprows=1, delimiter=',')"
   ]
  },
  {
   "cell_type": "code",
   "execution_count": 41,
   "metadata": {
    "collapsed": false
   },
   "outputs": [],
   "source": [
    "# Subset the data matrix inside limits\n",
    "xmin, xmax = lim[:,0].min(), lim[:,0].max()\n",
    "ymin, ymax = lim[:,1].min(), lim[:,1].max()\n",
    "\n",
    "indx = (data[:,0] > xmin) & (data[:,0] < xmax) & (data[:,1] > ymin) & (data[:,1] < ymax)\n",
    "\n",
    "dsub = data[indx,:].copy()\n",
    "\n",
    "# Get the number of grid points\n",
    "xx, yy = np.unique(dsub[:,0]), np.unique(dsub[:,1])\n",
    "nx, ny = xx.shape[0], yy.shape[0]\n"
   ]
  },
  {
   "cell_type": "code",
   "execution_count": 29,
   "metadata": {
    "collapsed": false
   },
   "outputs": [],
   "source": [
    "# Remove inducing field\n",
    "dsub[:,3] -= 54318."
   ]
  },
  {
   "cell_type": "code",
   "execution_count": 45,
   "metadata": {
    "collapsed": false
   },
   "outputs": [],
   "source": [
    "# Call Fatiando and calculate analytical signal\n",
    "anaSignal = gravmag.transform.tga(dsub[:,0],dsub[:,1],dsub[:,3],(nx, ny), method='fft')"
   ]
  },
  {
   "cell_type": "code",
   "execution_count": 46,
   "metadata": {
    "collapsed": false
   },
   "outputs": [
    {
     "data": {
      "text/plain": [
       "(596000.0, 599000.0, 5399500.0, 5403000.0)"
      ]
     },
     "execution_count": 46,
     "metadata": {},
     "output_type": "execute_result"
    },
    {
     "data": {
      "image/png": "[encoded data removed]",
      "text/plain": [
       "<matplotlib.figure.Figure at 0xa378a20>"
      ]
     },
     "metadata": {},
     "output_type": "display_data"
    }
   ],
   "source": [
    "# Plot data\n",
    "plt.figure(figsize=(12,8))\n",
    "plt.subplot(1,2,1)\n",
    "plt.contourf(xx,yy,dsub[:,3].reshape((ny,nx)), c = 20)\n",
    "plt.axis('equal')\n",
    "\n",
    "plt.subplot(1,2,2)\n",
    "plt.contourf(xx,yy,anaSignal[:].reshape((ny,nx)), c = 20)\n",
    "plt.axis('equal')"
   ]
  },
  {
   "cell_type": "code",
   "execution_count": 44,
   "metadata": {
    "collapsed": false
   },
   "outputs": [],
   "source": [
    "np.savetxt('TMI.dat',dsub[:,(0,1,3)])\n",
    "np.savetxt('AnaSignal.dat',np.c_[dsub[:,(0,1)],anaSignal])\n"
   ]
  },
  {
   "cell_type": "code",
   "execution_count": 26,
   "metadata": {
    "collapsed": false
   },
   "outputs": [
    {
     "data": {
      "text/plain": [
       "(153L,)"
      ]
     },
     "execution_count": 26,
     "metadata": {},
     "output_type": "execute_result"
    }
   ],
   "source": [
    "xx.shape"
   ]
  },
  {
   "cell_type": "code",
   "execution_count": 39,
   "metadata": {
    "collapsed": false
   },
   "outputs": [
    {
     "data": {
      "text/plain": [
       "(218821L, 4L)"
      ]
     },
     "execution_count": 39,
     "metadata": {},
     "output_type": "execute_result"
    }
   ],
   "source": [
    "data.shape"
   ]
  },
  {
   "cell_type": "code",
   "execution_count": null,
   "metadata": {
    "collapsed": true
   },
   "outputs": [],
   "source": []
  }
 ],
 "metadata": {
  "anaconda-cloud": {},
  "kernelspec": {
   "display_name": "Python [conda root]",
   "language": "python",
   "name": "conda-root-py"
  },
  "language_info": {
   "codemirror_mode": {
    "name": "ipython",
    "version": 2
   },
   "file_extension": ".py",
   "mimetype": "text/x-python",
   "name": "python",
   "nbconvert_exporter": "python",
   "pygments_lexer": "ipython2",
   "version": "2.7.12"
  }
 },
 "nbformat": 4,
 "nbformat_minor": 0
}
